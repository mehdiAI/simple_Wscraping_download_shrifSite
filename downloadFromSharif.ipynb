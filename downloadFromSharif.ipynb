{
 "cells": [
  {
   "cell_type": "code",
   "execution_count": 3,
   "id": "dffd50c2-0f36-4285-97ef-d519559ffa86",
   "metadata": {},
   "outputs": [],
   "source": [
    "from selenium import webdriver\n",
    "from selenium.webdriver.chrome.service import Service\n",
    "from selenium.webdriver.common.by import By\n",
    "from time import sleep\n",
    "import re\n",
    "import requests\n",
    "from bs4 import BeautifulSoup as bs\n",
    "from tqdm import tqdm\n",
    "import os\n",
    "import glob"
   ]
  },
  {
   "cell_type": "code",
   "execution_count": 33,
   "id": "92492c97-1f84-464d-a6f5-d7a1e43bd65c",
   "metadata": {},
   "outputs": [
    {
     "name": "stdin",
     "output_type": "stream",
     "text": [
      " http://ocw.sharif.edu/session/id/video/4648/186/%D8%AC%D9%84%D8%B3%D9%87-%DB%8C-1-%D8%A7%D8%B3%D8%AA%D9%86%D8%AA%D8%A7%D8%AC-%D8%AF%D8%B1-%D8%A8%D8%B1%D8%A7%D8%A8%D8%B1-%D8%A7%D9%84%DA%AF%D9%88%D8%B1%DB%8C%D8%AA%D9%85---%D8%A7%D8%B3%D8%AA%D9%86%D8%AA%D8%A7%D8%AC-%D8%A2%D9%85%D8%A7%D8%B1%DB%8C-%D8%AF%D8%B1-%D8%B9%D8%B5%D8%B1-%D8%B1%D8%A7%DB%8C%D8%A7%D9%86%D9%87--%D8%A7%D8%B3%D8%AA%D9%86%D8%AA%D8%A7%D8%AC-%D8%A2%D9%85%D8%A7%D8%B1%DB%8C-%D8%AF%D8%B1-%D8%B9%D8%B5%D8%B1-%D8%B1%D8%A7%DB%8C%D8%A7%D9%86%D9%87.html\n"
     ]
    }
   ],
   "source": [
    "url=input()"
   ]
  },
  {
   "cell_type": "code",
   "execution_count": 34,
   "id": "7fc7e45a-202c-47c0-a335-3a99e6402533",
   "metadata": {},
   "outputs": [
    {
     "name": "stdout",
     "output_type": "stream",
     "text": [
      "استنتاج در برابر الگوریتم - استنتاج آماری در عصر رایانه - استنتاج آماری در عصر رایانه | دانشگاه صنعتی شریف\n"
     ]
    }
   ],
   "source": [
    "s = Service(\"./chromedriver\")\n",
    "op = webdriver.ChromeOptions()\n",
    "driver = webdriver.Chrome(service=s, options=op)\n",
    "driver.get(url)\n",
    "print(driver.title)"
   ]
  },
  {
   "cell_type": "code",
   "execution_count": 35,
   "id": "5e5f154c-82c1-4cb3-a16c-9bfe993ba564",
   "metadata": {},
   "outputs": [
    {
     "data": {
      "text/plain": [
       "'جلسه بعدی'"
      ]
     },
     "execution_count": 35,
     "metadata": {},
     "output_type": "execute_result"
    }
   ],
   "source": [
    "#next page\n",
    "nextP_btn = driver.find_element(By.CLASS_NAME, 'sess_man')\n",
    "nextP_btn.text"
   ]
  },
  {
   "cell_type": "code",
   "execution_count": 36,
   "id": "7e40d0d2-60e4-4129-baec-43e33de7632a",
   "metadata": {},
   "outputs": [
    {
     "name": "stdout",
     "output_type": "stream",
     "text": [
      "جلسه بعدی\n",
      "http://ocw.sharif.edu/cms/mathsci/computer-age-statistical-inference/01.mp4\n",
      "1\n",
      "http://ocw.sharif.edu/cms/mathsci/computer-age-statistical-inference/02.mp4\n",
      "2\n",
      "http://ocw.sharif.edu/cms/mathsci/computer-age-statistical-inference/03.mp4\n",
      "3\n",
      "http://ocw.sharif.edu/cms/mathsci/computer-age-statistical-inference/04.mp4\n",
      "4\n",
      "http://ocw.sharif.edu/cms/mathsci/computer-age-statistical-inference/05.mp4\n",
      "5\n",
      "http://ocw.sharif.edu/cms/mathsci/computer-age-statistical-inference/06.mp4\n",
      "6\n",
      "http://ocw.sharif.edu/cms/mathsci/computer-age-statistical-inference/07.mp4\n",
      "7\n",
      "http://ocw.sharif.edu/cms/mathsci/computer-age-statistical-inference/08.mp4\n",
      "8\n",
      "http://ocw.sharif.edu/cms/mathsci/computer-age-statistical-inference/09.mp4\n",
      "9\n",
      "http://ocw.sharif.edu/cms/mathsci/computer-age-statistical-inference/10.mp4\n",
      "10\n",
      "http://ocw.sharif.edu/cms/mathsci/computer-age-statistical-inference/11.mp4\n",
      "11\n",
      "http://ocw.sharif.edu/cms/mathsci/computer-age-statistical-inference/12.mp4\n",
      "12\n",
      "http://ocw.sharif.edu/cms/mathsci/computer-age-statistical-inference/13.mp4\n",
      "13\n",
      "http://ocw.sharif.edu/cms/mathsci/computer-age-statistical-inference/14.mp4\n",
      "14\n",
      "http://ocw.sharif.edu/cms/mathsci/computer-age-statistical-inference/15.mp4\n",
      "15\n",
      "http://ocw.sharif.edu/cms/mathsci/computer-age-statistical-inference/16.mp4\n",
      "16\n",
      "http://ocw.sharif.edu/cms/mathsci/computer-age-statistical-inference/17.mp4\n",
      "17\n",
      "http://ocw.sharif.edu/cms/mathsci/computer-age-statistical-inference/18.mp4\n",
      "18\n",
      "http://ocw.sharif.edu/cms/mathsci/computer-age-statistical-inference/19.mp4\n",
      "19\n",
      "http://ocw.sharif.edu/cms/mathsci/computer-age-statistical-inference/20.mp4\n",
      "20\n",
      "http://ocw.sharif.edu/cms/mathsci/computer-age-statistical-inference/21.mp4\n",
      "21\n",
      "http://ocw.sharif.edu/cms/mathsci/computer-age-statistical-inference/22.mp4\n",
      "22\n",
      "http://ocw.sharif.edu/cms/mathsci/computer-age-statistical-inference/23.mp4\n",
      "23\n",
      "http://ocw.sharif.edu/cms/mathsci/computer-age-statistical-inference/24.mp4\n",
      "24\n",
      "http://ocw.sharif.edu/cms/mathsci/computer-age-statistical-inference/25.mp4\n",
      "25\n",
      "http://ocw.sharif.edu/cms/mathsci/computer-age-statistical-inference/26.mp4\n",
      "26\n"
     ]
    }
   ],
   "source": [
    "gobtn=nextP_btn.text\n",
    "print(gobtn)\n",
    "titles=[]\n",
    "downloadLink=[]\n",
    "oldpage='-1'\n",
    "while gobtn!='جلسه قبلی':\n",
    "    nextP_btn = driver.find_element(By.CLASS_NAME, 'sess_man')\n",
    "    gobtn=nextP_btn.text\n",
    "    page = driver.find_element(By.CLASS_NAME,'ng-binding').text.split(' ')[2]\n",
    "    if page!=oldpage:\n",
    "        links = driver.find_elements(By.TAG_NAME, 'a')\n",
    "        for l in links:\n",
    "            li = l.get_attribute('href')\n",
    "            link=re.findall('.+\\.mp4$|.+\\.m4v$|.+\\.mkv$',li)\n",
    "            if len(link)!=0:\n",
    "                downloadLink.append(link[0])\n",
    "                title =driver.find_element(By.CSS_SELECTOR,'.-mar1 > .-pad0').text\n",
    "                titles.append(title)\n",
    "                print(link[0])\n",
    "        oldpage = page\n",
    "        print(oldpage)\n",
    "        nextP_btn.click()\n",
    "        sleep(5)\n",
    "\n",
    "                \n"
   ]
  },
  {
   "cell_type": "code",
   "execution_count": 37,
   "id": "df6459b6-9e1e-401e-ab44-13c98c73e0da",
   "metadata": {},
   "outputs": [
    {
     "data": {
      "text/plain": [
       "26"
      ]
     },
     "execution_count": 37,
     "metadata": {},
     "output_type": "execute_result"
    }
   ],
   "source": [
    "len(downloadLink)"
   ]
  },
  {
   "cell_type": "code",
   "execution_count": 38,
   "id": "53aab5df-94dd-4270-8809-dada7a8c0a6f",
   "metadata": {},
   "outputs": [
    {
     "data": {
      "text/plain": [
       "['جلسه 1: استنتاج در برابر الگوریتم - استنتاج آماری در عصر رایانه',\n",
       " 'جلسه 2: استنتاج فراوانی گرایانه - استنتاج آماری در عصر رایانه',\n",
       " 'جلسه 3: استنتاج بیزی']"
      ]
     },
     "execution_count": 38,
     "metadata": {},
     "output_type": "execute_result"
    }
   ],
   "source": [
    "titles[:3]"
   ]
  },
  {
   "cell_type": "code",
   "execution_count": 103,
   "id": "beb4b9ac-d82d-40e2-8172-e00c221911ac",
   "metadata": {},
   "outputs": [],
   "source": [
    "# create download directory\n",
    "directory = \"download\"\n",
    "parent_dir = os.getcwd()\n",
    "path = os.path.join(parent_dir, directory)\n",
    "if not os.path.isdir(path):\n",
    "    os.makedirs(path, exist_ok = True)"
   ]
  },
  {
   "cell_type": "code",
   "execution_count": null,
   "id": "39160385-28e2-477b-8d16-d6291a9cfb93",
   "metadata": {},
   "outputs": [],
   "source": []
  },
  {
   "cell_type": "code",
   "execution_count": null,
   "id": "d33384ee-261e-446d-8a59-9fea96706d88",
   "metadata": {},
   "outputs": [
    {
     "name": "stdout",
     "output_type": "stream",
     "text": [
      "file:  0\n",
      "file:  1\n",
      "file:  2\n",
      "file:  3\n",
      "file:  4\n",
      "file:  5\n",
      "file:  6\n",
      "file:  7\n",
      "file:  8\n",
      "file:  9\n"
     ]
    },
    {
     "name": "stderr",
     "output_type": "stream",
     "text": [
      " 77%|████████████████████████████▍        | 395M/514M [19:20<2:28:40, 13.3kiB/s]"
     ]
    }
   ],
   "source": [
    "# without using extracted name, just name with numbering.\n",
    "chunk_size = 1024 #1 Kibibyte\n",
    "fileList=[]\n",
    "#extract all downloaded file name in \"download\" folder\n",
    "for i in glob.glob(\"./download/*\"):\n",
    "    fileList.append(re.findall('(\\d+).',i)[0])\n",
    "\n",
    "for i,link in enumerate(downloadLink):\n",
    "    print('file: ',i)\n",
    "    if str(i) in fileList:\n",
    "        continue\n",
    "    else:\n",
    "        r = requests.get(link, stream=True)\n",
    "        total_size_in_bytes= int(r.headers.get('content-length', 0))\n",
    "        progress_bar = tqdm(total=total_size_in_bytes, unit='iB', unit_scale=True,position=0, leave=True)\n",
    "        with open('./download/'+str(i)+'.mp4','wb') as f:\n",
    "            for video in r.iter_content(chunk_size=chunk_size):\n",
    "                progress_bar.update(len(video))\n",
    "                f.write(video)\n",
    "            fileList.append(str(i))\n",
    "            print('done...')\n",
    "\n",
    "        progress_bar.close()\n",
    "\n"
   ]
  },
  {
   "cell_type": "code",
   "execution_count": 1,
   "id": "7ee5401b-694d-43cb-a1fb-670a4962f979",
   "metadata": {},
   "outputs": [
    {
     "ename": "NameError",
     "evalue": "name 'progress_bar' is not defined",
     "output_type": "error",
     "traceback": [
      "\u001b[0;31m---------------------------------------------------------------------------\u001b[0m",
      "\u001b[0;31mNameError\u001b[0m                                 Traceback (most recent call last)",
      "Input \u001b[0;32mIn [1]\u001b[0m, in \u001b[0;36m<cell line: 1>\u001b[0;34m()\u001b[0m\n\u001b[0;32m----> 1\u001b[0m \u001b[43mprogress_bar\u001b[49m\u001b[38;5;241m.\u001b[39mclose()\n",
      "\u001b[0;31mNameError\u001b[0m: name 'progress_bar' is not defined"
     ]
    }
   ],
   "source": [
    "progress_bar.close()"
   ]
  },
  {
   "cell_type": "code",
   "execution_count": 32,
   "id": "d68295a6-7b8e-47ce-80eb-bb7c877ccbdc",
   "metadata": {},
   "outputs": [
    {
     "name": "stdout",
     "output_type": "stream",
     "text": [
      "MaxRetryError was raised: HTTPConnectionPool(host='localhost', port=40273): Max retries exceeded with url: /session/a6a4f9b9211c9a8972685c81d71177f8/window (Caused by NewConnectionError('<urllib3.connection.HTTPConnection object at 0x7f98e6b4f640>: Failed to establish a new connection: [Errno 111] Connection refused'))\n"
     ]
    }
   ],
   "source": [
    "try:\n",
    "    driver.close()\n",
    "except Exception as err:\n",
    "    print(f\"{type(err).__name__} was raised: {err}\")\n",
    "    "
   ]
  },
  {
   "cell_type": "code",
   "execution_count": null,
   "id": "8a26c2e5-d300-4bae-9768-53b3635f3579",
   "metadata": {},
   "outputs": [],
   "source": []
  }
 ],
 "metadata": {
  "kernelspec": {
   "display_name": "wscrap",
   "language": "python",
   "name": "wscrap"
  },
  "language_info": {
   "codemirror_mode": {
    "name": "ipython",
    "version": 3
   },
   "file_extension": ".py",
   "mimetype": "text/x-python",
   "name": "python",
   "nbconvert_exporter": "python",
   "pygments_lexer": "ipython3",
   "version": "3.9.7"
  }
 },
 "nbformat": 4,
 "nbformat_minor": 5
}
